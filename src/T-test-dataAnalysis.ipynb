{
 "cells": [
  {
   "cell_type": "code",
   "execution_count": 86,
   "metadata": {},
   "outputs": [],
   "source": [
    "import json\n",
    "import numpy as np\n",
    "import pandas as pd\n",
    "from matplotlib import pyplot as plt\n",
    "import seaborn as sns\n",
    "from scipy import stats"
   ]
  },
  {
   "cell_type": "markdown",
   "metadata": {},
   "source": [
    "### Read Data"
   ]
  },
  {
   "cell_type": "code",
   "execution_count": 2,
   "metadata": {},
   "outputs": [],
   "source": [
    "with open(r'../data/json/subdivision/both.json', encoding='utf8', mode='r') as f:\n",
    "    data_bo = json.load(f)"
   ]
  },
  {
   "cell_type": "code",
   "execution_count": 3,
   "metadata": {},
   "outputs": [],
   "source": [
    "def readData(data):\n",
    "    data_cold_hot = []\n",
    "    data_keys = []\n",
    "    for i in data.keys():\n",
    "        temp = []\n",
    "        for j in data[i].keys():\n",
    "            if j == \"User_Info\":\n",
    "                continue\n",
    "            try:\n",
    "                for k in data[i][j].keys():\n",
    "                    if j+\"_\"+k not in data_keys:\n",
    "                        data_keys.append(j+\"_\"+k)\n",
    "                for x in data[i][j].values():\n",
    "                    temp.append(x)\n",
    "            except AttributeError:\n",
    "                temp.append(data[i][j])\n",
    "                if j not in data_keys:\n",
    "                    data_keys.append(j)\n",
    "        data_cold_hot.append(temp)\n",
    "    data_cold_hot = np.array(data_cold_hot)\n",
    "    data_keys = np.array(data_keys)\n",
    "    return data_cold_hot,data_keys"
   ]
  },
  {
   "cell_type": "code",
   "execution_count": 4,
   "metadata": {},
   "outputs": [],
   "source": [
    "data_both,data_both_keys = readData(data_bo)"
   ]
  },
  {
   "cell_type": "code",
   "execution_count": 5,
   "metadata": {},
   "outputs": [],
   "source": [
    "def data_mapping(data,keys,key_word):\n",
    "    find_data = []\n",
    "    for i in range(len(keys)):\n",
    "        if key_word in keys[i]:\n",
    "            find_data.append(data[:,i])\n",
    "    return np.array(find_data)"
   ]
  },
  {
   "cell_type": "markdown",
   "metadata": {},
   "source": [
    "### T-test"
   ]
  },
  {
   "cell_type": "code",
   "execution_count": 8,
   "metadata": {},
   "outputs": [
    {
     "data": {
      "text/plain": [
       "array(['Baseline_ERQ_Cognitive_Reappraisal',\n",
       "       'Baseline_ERQ_Expressive_Suppression', 'Baseline_SMM_G',\n",
       "       'Baseline_MAAS', 'Baseline_Math_Anxiety',\n",
       "       'CognitiveData_Cold_Reaction', 'CognitiveData_Cold_Inhibition',\n",
       "       'CognitiveData_Cold_Shifting', 'CognitiveData_Cold_Inversion',\n",
       "       'CognitiveData_Cold_Memory', 'Pre_Cold_VAS', 'Pre_Cold_STAI',\n",
       "       'Pre_Cold_PSS', 'Post_Cold_VAS', 'Post_Cold_STAI', 'Post_Cold_PSS',\n",
       "       'Other_Cold_Threatening', 'Other_Cold_Ability',\n",
       "       'Other_Cold_Confident', 'Other_Cold_Engagement',\n",
       "       'Other_Cold_Excited', 'Other_Cold_Difficulty',\n",
       "       'CognitiveData_Hot_Reaction', 'CognitiveData_Hot_Inhibition',\n",
       "       'CognitiveData_Hot_Shifting', 'CognitiveData_Hot_Inversion',\n",
       "       'CognitiveData_Hot_Memory', 'Pre_Hot_VAS', 'Pre_Hot_STAI',\n",
       "       'Pre_Hot_PSS', 'Post_Hot_VAS', 'Post_Hot_STAI', 'Post_Hot_PSS',\n",
       "       'Other_Hot_Threatening', 'Other_Hot_Ability',\n",
       "       'Other_Hot_Confident', 'Other_Hot_Engagement', 'Other_Hot_Excited',\n",
       "       'Other_Hot_Difficulty'], dtype='<U35')"
      ]
     },
     "execution_count": 8,
     "metadata": {},
     "output_type": "execute_result"
    }
   ],
   "source": [
    "data_both_keys"
   ]
  },
  {
   "cell_type": "code",
   "execution_count": 79,
   "metadata": {},
   "outputs": [],
   "source": [
    "concatenate_key = [\"Threatening\",\"Ability\",\"Confident\",\"Engagement\",\"Excited\",\"Difficulty\"]\n",
    "other = []\n",
    "for i in concatenate_key:\n",
    "    temp = data_mapping(data_both,data_both_keys,i)\n",
    "    other.append( np.hstack((temp[0],temp[1])))"
   ]
  },
  {
   "cell_type": "code",
   "execution_count": 69,
   "metadata": {},
   "outputs": [
    {
     "data": {
      "text/plain": [
       "(4, 100)"
      ]
     },
     "execution_count": 69,
     "metadata": {},
     "output_type": "execute_result"
    }
   ],
   "source": [
    "# extract VAS & STAI & PSS\n",
    "VAS = data_mapping(data_both,data_both_keys,\"VAS\")\n",
    "STAI = data_mapping(data_both,data_both_keys,\"STAI\")\n",
    "PSS = data_mapping(data_both,data_both_keys,\"PSS\")\n",
    "VAS.shape"
   ]
  },
  {
   "cell_type": "code",
   "execution_count": 70,
   "metadata": {},
   "outputs": [
    {
     "data": {
      "text/plain": [
       "(200,)"
      ]
     },
     "execution_count": 70,
     "metadata": {},
     "output_type": "execute_result"
    }
   ],
   "source": [
    "pre_VAS = np.hstack((VAS[0], VAS[2]))\n",
    "pre_STAI = np.hstack((STAI[0], STAI[2]))\n",
    "pre_PASS = np.hstack((PSS[0], PSS[2]))\n",
    "pre_VAS.shape"
   ]
  },
  {
   "cell_type": "code",
   "execution_count": 71,
   "metadata": {},
   "outputs": [],
   "source": [
    "post_VAS = np.hstack((VAS[1], VAS[3]))\n",
    "post_STAI = np.hstack((STAI[1], STAI[3]))\n",
    "post_PASS = np.hstack((PSS[1], PSS[3]))"
   ]
  },
  {
   "cell_type": "code",
   "execution_count": 113,
   "metadata": {},
   "outputs": [],
   "source": [
    "stress = [pre_VAS,post_VAS,pre_STAI,post_STAI,pre_PASS,post_PASS]"
   ]
  },
  {
   "cell_type": "code",
   "execution_count": 96,
   "metadata": {},
   "outputs": [],
   "source": [
    "keys = ['Baseline_ERQ_Cognitive_Reappraisal',\n",
    "       'Baseline_ERQ_Expressive_Suppression', 'Baseline_SMM_G',\n",
    "       'Baseline_MAAS', 'Baseline_Math_Anxiety',\n",
    "       'Other_Cold_Threatening', 'Other_Cold_Ability',\n",
    "       'Other_Cold_Confident', 'Other_Cold_Engagement',\n",
    "       'Other_Cold_Excited', 'Other_Cold_Difficulty',\n",
    "       'Other_Hot_Threatening', 'Other_Hot_Ability',\n",
    "       'Other_Hot_Confident', 'Other_Hot_Engagement', 'Other_Hot_Excited',\n",
    "       'Other_Hot_Difficulty']\n",
    "index = [\"pre_VAS\",\"post_VAS\",\"pre_STAI\",\"post_STAI\",\"pre_PASS\",\"post_PASS\"]"
   ]
  },
  {
   "cell_type": "markdown",
   "metadata": {},
   "source": [
    "##### H0（原假设）：两列数据没有显著性差异。以95%的置信区间进行判定。"
   ]
  },
  {
   "cell_type": "code",
   "execution_count": 72,
   "metadata": {},
   "outputs": [
    {
     "data": {
      "text/html": [
       "<div>\n",
       "<style scoped>\n",
       "    .dataframe tbody tr th:only-of-type {\n",
       "        vertical-align: middle;\n",
       "    }\n",
       "\n",
       "    .dataframe tbody tr th {\n",
       "        vertical-align: top;\n",
       "    }\n",
       "\n",
       "    .dataframe thead th {\n",
       "        text-align: right;\n",
       "    }\n",
       "</style>\n",
       "<table border=\"1\" class=\"dataframe\">\n",
       "  <thead>\n",
       "    <tr style=\"text-align: right;\">\n",
       "      <th></th>\n",
       "      <th>std</th>\n",
       "      <th>mean</th>\n",
       "    </tr>\n",
       "  </thead>\n",
       "  <tbody>\n",
       "    <tr>\n",
       "      <th>Baseline_ERQ_Cognitive_Reappraisal</th>\n",
       "      <td>0.151458</td>\n",
       "      <td>0.557083</td>\n",
       "    </tr>\n",
       "    <tr>\n",
       "      <th>Baseline_ERQ_Expressive_Suppression</th>\n",
       "      <td>0.164767</td>\n",
       "      <td>0.374375</td>\n",
       "    </tr>\n",
       "    <tr>\n",
       "      <th>Baseline_SMM_G</th>\n",
       "      <td>0.154253</td>\n",
       "      <td>0.357187</td>\n",
       "    </tr>\n",
       "    <tr>\n",
       "      <th>Baseline_MAAS</th>\n",
       "      <td>0.192948</td>\n",
       "      <td>0.561857</td>\n",
       "    </tr>\n",
       "    <tr>\n",
       "      <th>Baseline_Math_Anxiety</th>\n",
       "      <td>0.286564</td>\n",
       "      <td>0.327500</td>\n",
       "    </tr>\n",
       "    <tr>\n",
       "      <th>CognitiveData_Cold_Reaction</th>\n",
       "      <td>0.157923</td>\n",
       "      <td>0.623330</td>\n",
       "    </tr>\n",
       "    <tr>\n",
       "      <th>CognitiveData_Cold_Inhibition</th>\n",
       "      <td>0.057529</td>\n",
       "      <td>0.898740</td>\n",
       "    </tr>\n",
       "    <tr>\n",
       "      <th>CognitiveData_Cold_Shifting</th>\n",
       "      <td>0.036125</td>\n",
       "      <td>0.904228</td>\n",
       "    </tr>\n",
       "    <tr>\n",
       "      <th>CognitiveData_Cold_Inversion</th>\n",
       "      <td>0.074778</td>\n",
       "      <td>0.904962</td>\n",
       "    </tr>\n",
       "    <tr>\n",
       "      <th>CognitiveData_Cold_Memory</th>\n",
       "      <td>0.079966</td>\n",
       "      <td>0.896891</td>\n",
       "    </tr>\n",
       "    <tr>\n",
       "      <th>Pre_Cold_VAS</th>\n",
       "      <td>0.180185</td>\n",
       "      <td>0.150700</td>\n",
       "    </tr>\n",
       "    <tr>\n",
       "      <th>Pre_Cold_STAI</th>\n",
       "      <td>0.140497</td>\n",
       "      <td>0.228750</td>\n",
       "    </tr>\n",
       "    <tr>\n",
       "      <th>Pre_Cold_PSS</th>\n",
       "      <td>0.163137</td>\n",
       "      <td>0.335625</td>\n",
       "    </tr>\n",
       "    <tr>\n",
       "      <th>Post_Cold_VAS</th>\n",
       "      <td>0.149320</td>\n",
       "      <td>0.142100</td>\n",
       "    </tr>\n",
       "    <tr>\n",
       "      <th>Post_Cold_STAI</th>\n",
       "      <td>0.138456</td>\n",
       "      <td>0.246250</td>\n",
       "    </tr>\n",
       "    <tr>\n",
       "      <th>Post_Cold_PSS</th>\n",
       "      <td>0.175503</td>\n",
       "      <td>0.348125</td>\n",
       "    </tr>\n",
       "    <tr>\n",
       "      <th>Other_Cold_Threatening</th>\n",
       "      <td>0.167239</td>\n",
       "      <td>0.137500</td>\n",
       "    </tr>\n",
       "    <tr>\n",
       "      <th>Other_Cold_Ability</th>\n",
       "      <td>0.192029</td>\n",
       "      <td>0.825000</td>\n",
       "    </tr>\n",
       "    <tr>\n",
       "      <th>Other_Cold_Confident</th>\n",
       "      <td>0.192000</td>\n",
       "      <td>0.844000</td>\n",
       "    </tr>\n",
       "    <tr>\n",
       "      <th>Other_Cold_Engagement</th>\n",
       "      <td>0.216492</td>\n",
       "      <td>0.752500</td>\n",
       "    </tr>\n",
       "    <tr>\n",
       "      <th>Other_Cold_Excited</th>\n",
       "      <td>0.259037</td>\n",
       "      <td>0.270000</td>\n",
       "    </tr>\n",
       "    <tr>\n",
       "      <th>Other_Cold_Difficulty</th>\n",
       "      <td>0.196914</td>\n",
       "      <td>0.465000</td>\n",
       "    </tr>\n",
       "    <tr>\n",
       "      <th>CognitiveData_Hot_Reaction</th>\n",
       "      <td>0.153150</td>\n",
       "      <td>0.565930</td>\n",
       "    </tr>\n",
       "    <tr>\n",
       "      <th>CognitiveData_Hot_Inhibition</th>\n",
       "      <td>0.049585</td>\n",
       "      <td>0.903951</td>\n",
       "    </tr>\n",
       "    <tr>\n",
       "      <th>CognitiveData_Hot_Shifting</th>\n",
       "      <td>0.032261</td>\n",
       "      <td>0.908636</td>\n",
       "    </tr>\n",
       "    <tr>\n",
       "      <th>CognitiveData_Hot_Inversion</th>\n",
       "      <td>0.061963</td>\n",
       "      <td>0.913321</td>\n",
       "    </tr>\n",
       "    <tr>\n",
       "      <th>CognitiveData_Hot_Memory</th>\n",
       "      <td>0.069606</td>\n",
       "      <td>0.913854</td>\n",
       "    </tr>\n",
       "    <tr>\n",
       "      <th>Pre_Hot_VAS</th>\n",
       "      <td>0.179114</td>\n",
       "      <td>0.136800</td>\n",
       "    </tr>\n",
       "    <tr>\n",
       "      <th>Pre_Hot_STAI</th>\n",
       "      <td>0.155623</td>\n",
       "      <td>0.228750</td>\n",
       "    </tr>\n",
       "    <tr>\n",
       "      <th>Pre_Hot_PSS</th>\n",
       "      <td>0.165514</td>\n",
       "      <td>0.335625</td>\n",
       "    </tr>\n",
       "    <tr>\n",
       "      <th>Post_Hot_VAS</th>\n",
       "      <td>0.216238</td>\n",
       "      <td>0.246400</td>\n",
       "    </tr>\n",
       "    <tr>\n",
       "      <th>Post_Hot_STAI</th>\n",
       "      <td>0.171474</td>\n",
       "      <td>0.335833</td>\n",
       "    </tr>\n",
       "    <tr>\n",
       "      <th>Post_Hot_PSS</th>\n",
       "      <td>0.170792</td>\n",
       "      <td>0.340625</td>\n",
       "    </tr>\n",
       "    <tr>\n",
       "      <th>Other_Hot_Threatening</th>\n",
       "      <td>0.253414</td>\n",
       "      <td>0.212500</td>\n",
       "    </tr>\n",
       "    <tr>\n",
       "      <th>Other_Hot_Ability</th>\n",
       "      <td>0.221585</td>\n",
       "      <td>0.720000</td>\n",
       "    </tr>\n",
       "    <tr>\n",
       "      <th>Other_Hot_Confident</th>\n",
       "      <td>0.165154</td>\n",
       "      <td>0.818000</td>\n",
       "    </tr>\n",
       "    <tr>\n",
       "      <th>Other_Hot_Engagement</th>\n",
       "      <td>0.216376</td>\n",
       "      <td>0.742500</td>\n",
       "    </tr>\n",
       "    <tr>\n",
       "      <th>Other_Hot_Excited</th>\n",
       "      <td>0.313239</td>\n",
       "      <td>0.372500</td>\n",
       "    </tr>\n",
       "    <tr>\n",
       "      <th>Other_Hot_Difficulty</th>\n",
       "      <td>0.197737</td>\n",
       "      <td>0.530000</td>\n",
       "    </tr>\n",
       "  </tbody>\n",
       "</table>\n",
       "</div>"
      ],
      "text/plain": [
       "                                          std      mean\n",
       "Baseline_ERQ_Cognitive_Reappraisal   0.151458  0.557083\n",
       "Baseline_ERQ_Expressive_Suppression  0.164767  0.374375\n",
       "Baseline_SMM_G                       0.154253  0.357187\n",
       "Baseline_MAAS                        0.192948  0.561857\n",
       "Baseline_Math_Anxiety                0.286564  0.327500\n",
       "CognitiveData_Cold_Reaction          0.157923  0.623330\n",
       "CognitiveData_Cold_Inhibition        0.057529  0.898740\n",
       "CognitiveData_Cold_Shifting          0.036125  0.904228\n",
       "CognitiveData_Cold_Inversion         0.074778  0.904962\n",
       "CognitiveData_Cold_Memory            0.079966  0.896891\n",
       "Pre_Cold_VAS                         0.180185  0.150700\n",
       "Pre_Cold_STAI                        0.140497  0.228750\n",
       "Pre_Cold_PSS                         0.163137  0.335625\n",
       "Post_Cold_VAS                        0.149320  0.142100\n",
       "Post_Cold_STAI                       0.138456  0.246250\n",
       "Post_Cold_PSS                        0.175503  0.348125\n",
       "Other_Cold_Threatening               0.167239  0.137500\n",
       "Other_Cold_Ability                   0.192029  0.825000\n",
       "Other_Cold_Confident                 0.192000  0.844000\n",
       "Other_Cold_Engagement                0.216492  0.752500\n",
       "Other_Cold_Excited                   0.259037  0.270000\n",
       "Other_Cold_Difficulty                0.196914  0.465000\n",
       "CognitiveData_Hot_Reaction           0.153150  0.565930\n",
       "CognitiveData_Hot_Inhibition         0.049585  0.903951\n",
       "CognitiveData_Hot_Shifting           0.032261  0.908636\n",
       "CognitiveData_Hot_Inversion          0.061963  0.913321\n",
       "CognitiveData_Hot_Memory             0.069606  0.913854\n",
       "Pre_Hot_VAS                          0.179114  0.136800\n",
       "Pre_Hot_STAI                         0.155623  0.228750\n",
       "Pre_Hot_PSS                          0.165514  0.335625\n",
       "Post_Hot_VAS                         0.216238  0.246400\n",
       "Post_Hot_STAI                        0.171474  0.335833\n",
       "Post_Hot_PSS                         0.170792  0.340625\n",
       "Other_Hot_Threatening                0.253414  0.212500\n",
       "Other_Hot_Ability                    0.221585  0.720000\n",
       "Other_Hot_Confident                  0.165154  0.818000\n",
       "Other_Hot_Engagement                 0.216376  0.742500\n",
       "Other_Hot_Excited                    0.313239  0.372500\n",
       "Other_Hot_Difficulty                 0.197737  0.530000"
      ]
     },
     "execution_count": 72,
     "metadata": {},
     "output_type": "execute_result"
    }
   ],
   "source": [
    "temp = data_both.T\n",
    "std_mean = []\n",
    "for i in range(len(temp)):\n",
    "    std_mean.append([np.std(temp[i]) , np.mean(temp[i])])\n",
    "std_mean = pd.DataFrame(std_mean,index=data_both_keys,columns=[\"std\",\"mean\"])\n",
    "std_mean\n"
   ]
  },
  {
   "cell_type": "code",
   "execution_count": 116,
   "metadata": {},
   "outputs": [],
   "source": [
    "# t-test\n",
    "\n",
    "def stress_T(temp):\n",
    "    result = []\n",
    "    for i in range(6):\n",
    "        result.append(np.array(stats.ttest_ind(temp, stress[i], equal_var = False)))\n",
    "    return result\n",
    "\n",
    "def T_test(value):\n",
    "    result = {}\n",
    "\n",
    "    if value == \"both\":\n",
    "        for i in keys:\n",
    "            temp = data_mapping(data_both, data_both_keys, i).T\n",
    "            result[i] =  stress_T(temp)\n",
    "\n",
    "    elif value == \"other\":\n",
    "        for i in range(6):\n",
    "            temp = other[i]\n",
    "            result[concatenate_key[i]] =  stress_T(temp)\n",
    "\n",
    "    elif value == \"index\":\n",
    "        for i in range(6):\n",
    "            temp = stress[i]\n",
    "            result[index[i]] =  stress_T(temp)\n",
    "    \n",
    "        \n",
    "    result = pd.DataFrame(result,index=index)\n",
    "    return result"
   ]
  },
  {
   "cell_type": "code",
   "execution_count": 117,
   "metadata": {},
   "outputs": [
    {
     "name": "stdout",
     "output_type": "stream",
     "text": [
      "Baseline_ERQ_Cognitive_Reappraisal --- ['pre_VAS', 'post_VAS', 'pre_STAI', 'post_STAI', 'pre_PASS', 'post_PASS']\n",
      "Baseline_ERQ_Expressive_Suppression --- ['pre_VAS', 'post_VAS', 'pre_STAI', 'post_STAI']\n",
      "Baseline_SMM_G --- ['pre_VAS', 'post_VAS', 'pre_STAI', 'post_STAI']\n",
      "Baseline_MAAS --- ['pre_VAS', 'post_VAS', 'pre_STAI', 'post_STAI', 'pre_PASS', 'post_PASS']\n",
      "Baseline_Math_Anxiety --- ['pre_VAS', 'post_VAS', 'pre_STAI']\n",
      "Other_Cold_Threatening --- ['post_VAS', 'pre_STAI', 'post_STAI', 'pre_PASS', 'post_PASS']\n",
      "Other_Cold_Ability --- ['pre_VAS', 'post_VAS', 'pre_STAI', 'post_STAI', 'pre_PASS', 'post_PASS']\n",
      "Other_Cold_Confident --- ['pre_VAS', 'post_VAS', 'pre_STAI', 'post_STAI', 'pre_PASS', 'post_PASS']\n",
      "Other_Cold_Engagement --- ['pre_VAS', 'post_VAS', 'pre_STAI', 'post_STAI', 'pre_PASS', 'post_PASS']\n",
      "Other_Cold_Excited --- ['pre_VAS', 'post_VAS', 'pre_PASS', 'post_PASS']\n",
      "Other_Cold_Difficulty --- ['pre_VAS', 'post_VAS', 'pre_STAI', 'post_STAI', 'pre_PASS', 'post_PASS']\n",
      "Other_Hot_Threatening --- ['pre_VAS', 'post_STAI', 'pre_PASS', 'post_PASS']\n",
      "Other_Hot_Ability --- ['pre_VAS', 'post_VAS', 'pre_STAI', 'post_STAI', 'pre_PASS', 'post_PASS']\n",
      "Other_Hot_Confident --- ['pre_VAS', 'post_VAS', 'pre_STAI', 'post_STAI', 'pre_PASS', 'post_PASS']\n",
      "Other_Hot_Engagement --- ['pre_VAS', 'post_VAS', 'pre_STAI', 'post_STAI', 'pre_PASS', 'post_PASS']\n",
      "Other_Hot_Excited --- ['pre_VAS', 'post_VAS', 'pre_STAI', 'post_STAI']\n",
      "Other_Hot_Difficulty --- ['pre_VAS', 'post_VAS', 'pre_STAI', 'post_STAI', 'pre_PASS', 'post_PASS']\n"
     ]
    }
   ],
   "source": [
    "result = T_test(\"both\")\n",
    "res_value = result.values\n",
    "# res_value = np.array(res_value)\n",
    "for i in range(17):\n",
    "    temp = []\n",
    "    for j in range(6):\n",
    "        if res_value[j,i][1] < 0.05:\n",
    "            temp.append(index[j])\n",
    "    print(keys[i],\"---\",temp)"
   ]
  },
  {
   "cell_type": "code",
   "execution_count": 124,
   "metadata": {},
   "outputs": [
    {
     "name": "stdout",
     "output_type": "stream",
     "text": [
      "pre_VAS --- ['post_VAS', 'pre_STAI', 'post_STAI', 'pre_PASS', 'post_PASS']\n",
      "post_VAS --- ['pre_VAS', 'pre_STAI', 'post_STAI', 'pre_PASS', 'post_PASS']\n",
      "pre_STAI --- ['pre_VAS', 'post_VAS', 'post_STAI', 'pre_PASS', 'post_PASS']\n",
      "post_STAI --- ['pre_VAS', 'post_VAS', 'pre_STAI', 'pre_PASS', 'post_PASS']\n",
      "pre_PASS --- ['pre_VAS', 'post_VAS', 'pre_STAI', 'post_STAI']\n",
      "post_PASS --- ['pre_VAS', 'post_VAS', 'pre_STAI', 'post_STAI']\n"
     ]
    }
   ],
   "source": [
    "result = T_test(\"index\")\n",
    "res_value = result.values\n",
    "heatMap = []\n",
    "# res_value = np.array(res_value)\n",
    "for i in range(6):\n",
    "    temp = []\n",
    "    temp_heatMap = []\n",
    "    for j in range(6):\n",
    "        temp_heatMap.append(res_value[j,i][1])\n",
    "        if res_value[j,i][1] < 0.05:\n",
    "            temp.append(index[j])\n",
    "    heatMap.append(temp_heatMap)\n",
    "    print(index[i],\"---\",temp)"
   ]
  },
  {
   "cell_type": "code",
   "execution_count": 130,
   "metadata": {},
   "outputs": [
    {
     "data": {
      "text/plain": [
       "<AxesSubplot:>"
      ]
     },
     "execution_count": 130,
     "metadata": {},
     "output_type": "execute_result"
    },
    {
     "data": {
      "image/png": "[encoded data removed]",
      "text/plain": [
       "<Figure size 432x288 with 2 Axes>"
      ]
     },
     "metadata": {
      "needs_background": "light"
     },
     "output_type": "display_data"
    }
   ],
   "source": [
    "\n",
    "sns.heatmap(pd.DataFrame(heatMap,index=index,columns=index))\n"
   ]
  }
 ],
 "metadata": {
  "interpreter": {
   "hash": "82808580bda45c352d044fa2956fda88987e659e42042cecdcfd01ebf2440eb9"
  },
  "kernelspec": {
   "display_name": "Python 3.6.12 ('sklearn')",
   "language": "python",
   "name": "python3"
  },
  "language_info": {
   "codemirror_mode": {
    "name": "ipython",
    "version": 3
   },
   "file_extension": ".py",
   "mimetype": "text/x-python",
   "name": "python",
   "nbconvert_exporter": "python",
   "pygments_lexer": "ipython3",
   "version": "3.6.12"
  },
  "orig_nbformat": 4
 },
 "nbformat": 4,
 "nbformat_minor": 2
}
